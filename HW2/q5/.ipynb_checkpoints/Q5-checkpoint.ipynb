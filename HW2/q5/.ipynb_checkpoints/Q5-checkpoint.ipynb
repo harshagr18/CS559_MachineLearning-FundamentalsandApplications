{
 "cells": [
  {
   "cell_type": "code",
   "execution_count": 1,
   "id": "acceptable-bidding",
   "metadata": {},
   "outputs": [],
   "source": [
    "import pandas as pd\n",
    "import numpy as np"
   ]
  },
  {
   "cell_type": "code",
   "execution_count": 2,
   "id": "enclosed-sustainability",
   "metadata": {},
   "outputs": [],
   "source": [
    "# Converting data to CSV\n",
    "\n",
    "f = open(\"breast-cancer-wisconsin.data\")\n",
    "data = f.read()\n",
    "data = data.split(\"\\n\")\n",
    "mydict = {\"index\":[],\"1\":[],\"2\":[],\"3\":[],\"4\":[],\"5\":[],\"6\":[],\"7\":[],\"8\":[],\"9\":[],\"label\":[]}\n",
    "df = pd.DataFrame(mydict)\n",
    "for k in data[:-1]:\n",
    "    row = []\n",
    "    temp = k.split(\",\")\n",
    "    for i in range(0,len(temp)):  \n",
    "        row.append(temp[i])\n",
    "    df.loc[len(df.index)] = row\n",
    "\n",
    "df = df.drop(\"index\", axis=1)\n",
    "df.to_csv(\"breast-cancer-wisconsin.csv\")"
   ]
  },
  {
   "cell_type": "code",
   "execution_count": 3,
   "id": "warming-banana",
   "metadata": {},
   "outputs": [],
   "source": [
    "data = pd.read_csv(\"breast-cancer-wisconsin.csv\")\n",
    "\n",
    "# Removing \"?\" from the dataset\n",
    "data = data[data[\"1\"] != \"?\"]\n",
    "data = data[data[\"2\"] != \"?\"]\n",
    "data = data[data[\"3\"] != \"?\"]\n",
    "data = data[data[\"4\"] != \"?\"]\n",
    "data = data[data[\"5\"] != \"?\"]\n",
    "data = data[data[\"6\"] != \"?\"]\n",
    "data = data[data[\"7\"] != \"?\"]\n",
    "data = data[data[\"8\"] != \"?\"]\n",
    "data = data[data[\"9\"] != \"?\"]\n",
    "\n",
    "data = data.sample(frac=1)\n",
    "\n",
    "# Preparing the dataset\n",
    "X = data[[\"1\",\"2\",\"3\",\"4\",\"5\",\"6\",\"7\",\"8\",\"9\"]]\n",
    "X = X.astype(int)\n",
    "y = data[\"label\"]\n",
    "y = y.replace(2,1)\n",
    "y = y.replace(4,0)"
   ]
  },
  {
   "cell_type": "code",
   "execution_count": 4,
   "id": "composed-latin",
   "metadata": {},
   "outputs": [],
   "source": [
    "import copy\n",
    "import numpy as np\n",
    "from sklearn.metrics import accuracy_score\n",
    "\n",
    "# Logistic regression class\n",
    "class LogisticRegression():\n",
    "    def __init__(self):\n",
    "        self.losses = []\n",
    "        self.train_accuracies = []\n",
    "\n",
    "    def fit(self, x, y, epochs):\n",
    "        x = self._transform_x(x)\n",
    "        y = self._transform_y(y)\n",
    "\n",
    "        self.weights = np.zeros(x.shape[1])\n",
    "        self.bias = 0\n",
    "\n",
    "        for i in range(epochs):\n",
    "            x_dot_weights = np.matmul(self.weights, x.transpose()) + self.bias\n",
    "            pred = self._sigmoid(x_dot_weights)\n",
    "            loss = self.compute_loss(y, pred)\n",
    "            error_w, error_b = self.compute_gradients(x, y, pred)\n",
    "            self.update_model_parameters(error_w, error_b)\n",
    "\n",
    "            pred_to_class = [1 if p > 0.5 else 0 for p in pred]\n",
    "            self.train_accuracies.append(accuracy_score(y, pred_to_class))\n",
    "            self.losses.append(loss)\n",
    "\n",
    "    def compute_loss(self, y_true, y_pred):\n",
    "        # binary cross entropy\n",
    "        y_zero_loss = y_true * np.log(y_pred + 1e-9)\n",
    "        y_one_loss = (1-y_true) * np.log(1 - y_pred + 1e-9)\n",
    "        return -np.mean(y_zero_loss + y_one_loss)\n",
    "\n",
    "    def compute_gradients(self, x, y_true, y_pred):\n",
    "        # derivative of binary cross entropy\n",
    "        difference =  y_pred - y_true\n",
    "        gradient_b = np.mean(difference)\n",
    "        gradients_w = np.matmul(x.transpose(), difference)\n",
    "        gradients_w = np.array([np.mean(grad) for grad in gradients_w])\n",
    "\n",
    "        return gradients_w, gradient_b\n",
    "\n",
    "    def update_model_parameters(self, error_w, error_b):\n",
    "        self.weights = self.weights - 0.1 * error_w\n",
    "        self.bias = self.bias - 0.1 * error_b\n",
    "\n",
    "    def predict(self, x):\n",
    "        x_dot_weights = np.matmul(x, self.weights.transpose()) + self.bias\n",
    "        probabilities = self._sigmoid(x_dot_weights)\n",
    "        return [1 if p > 0.5 else 0 for p in probabilities]\n",
    "\n",
    "    def _sigmoid(self, x):\n",
    "        return np.array([self._sigmoid_function(value) for value in x])\n",
    "\n",
    "    def _sigmoid_function(self, x):\n",
    "        if x >= 0:\n",
    "            z = np.exp(-x)\n",
    "            return 1 / (1 + z)\n",
    "        else:\n",
    "            z = np.exp(x)\n",
    "            return z / (1 + z)\n",
    "\n",
    "    def _transform_x(self, x):\n",
    "        x = copy.deepcopy(x)\n",
    "        return x.values\n",
    "\n",
    "    def _transform_y(self, y):\n",
    "        y = copy.deepcopy(y)\n",
    "        return y.values.reshape(y.shape[0], 1)"
   ]
  },
  {
   "cell_type": "code",
   "execution_count": 5,
   "id": "eligible-chapel",
   "metadata": {},
   "outputs": [],
   "source": [
    "# Cross validation\n",
    "\n",
    "X1 = X[  0:136]\n",
    "X2 = X[136:272]\n",
    "X3 = X[272:408]\n",
    "X4 = X[408:544]\n",
    "X5 = X[544:683]\n",
    "\n",
    "y1 = y[  0:136]\n",
    "y2 = y[136:272]\n",
    "y3 = y[272:408]\n",
    "y4 = y[408:544]\n",
    "y5 = y[544:683]"
   ]
  },
  {
   "cell_type": "code",
   "execution_count": 6,
   "id": "coupled-property",
   "metadata": {},
   "outputs": [
    {
     "name": "stdout",
     "output_type": "stream",
     "text": [
      "Accuracy at Fold 1 is  0.6764705882352942\n"
     ]
    }
   ],
   "source": [
    "# Fold 1\n",
    "x_train = X2\n",
    "X2 = X2.append(X3)\n",
    "X2 = X2.append(X4)\n",
    "X2 = X2.append(X5)\n",
    "\n",
    "y_train = y2\n",
    "y2 = y2.append(y3)\n",
    "y2 = y2.append(y4)\n",
    "y2 = y2.append(y5)\n",
    "\n",
    "lr = LogisticRegression()\n",
    "lr.fit(x_train, y_train, epochs=150)\n",
    "\n",
    "pred = lr.predict(X1)\n",
    "accuracy = accuracy_score(y1, pred)\n",
    "print(\"Accuracy at Fold 1 is \",accuracy)"
   ]
  },
  {
   "cell_type": "code",
   "execution_count": 7,
   "id": "seven-motion",
   "metadata": {},
   "outputs": [
    {
     "name": "stdout",
     "output_type": "stream",
     "text": [
      "Accuracy at Fold 2 is  0.659963436928702\n"
     ]
    }
   ],
   "source": [
    "# Fold 2\n",
    "x_train = X1\n",
    "X1 = X1.append(X3)\n",
    "X1 = X1.append(X4)\n",
    "X1 = X1.append(X5)\n",
    "\n",
    "y_train = y1\n",
    "y1 = y1.append(y3)\n",
    "y1 = y1.append(y4)\n",
    "y1 = y1.append(y5)\n",
    "\n",
    "lr = LogisticRegression()\n",
    "lr.fit(x_train, y_train, epochs=150)\n",
    "\n",
    "pred = lr.predict(X2)\n",
    "accuracy = accuracy_score(y2, pred)\n",
    "print(\"Accuracy at Fold 2 is \",accuracy)"
   ]
  },
  {
   "cell_type": "code",
   "execution_count": 8,
   "id": "lyric-vaccine",
   "metadata": {},
   "outputs": [
    {
     "name": "stdout",
     "output_type": "stream",
     "text": [
      "Accuracy at Fold 3 is  0.6617647058823529\n"
     ]
    }
   ],
   "source": [
    "# Fold 4\n",
    "x_train = X1\n",
    "X1 = X1.append(X2)\n",
    "X1 = X1.append(X4)\n",
    "X1 = X1.append(X5)\n",
    "\n",
    "y_train = y1\n",
    "y1 = y1.append(y2)\n",
    "y1 = y1.append(y4)\n",
    "y1 = y1.append(y5)\n",
    "\n",
    "lr = LogisticRegression()\n",
    "lr.fit(x_train, y_train, epochs=150)\n",
    "\n",
    "pred = lr.predict(X3)\n",
    "accuracy = accuracy_score(y3, pred)\n",
    "print(\"Accuracy at Fold 3 is \",accuracy)"
   ]
  },
  {
   "cell_type": "code",
   "execution_count": 9,
   "id": "golden-ending",
   "metadata": {},
   "outputs": [
    {
     "name": "stdout",
     "output_type": "stream",
     "text": [
      "Accuracy at Fold 4 is  0.6691176470588235\n"
     ]
    }
   ],
   "source": [
    "# Fold 4\n",
    "x_train = X1\n",
    "X1 = X1.append(X3)\n",
    "X1 = X1.append(X2)\n",
    "X1 = X1.append(X5)\n",
    "\n",
    "y_train = y1\n",
    "y1 = y1.append(y3)\n",
    "y1 = y1.append(y2)\n",
    "y1 = y1.append(y5)\n",
    "\n",
    "lr = LogisticRegression()\n",
    "lr.fit(x_train, y_train, epochs=150)\n",
    "\n",
    "pred = lr.predict(X4)\n",
    "accuracy = accuracy_score(y4, pred)\n",
    "print(\"Accuracy at Fold 4 is \",accuracy)"
   ]
  },
  {
   "cell_type": "code",
   "execution_count": 10,
   "id": "beginning-bargain",
   "metadata": {},
   "outputs": [
    {
     "name": "stdout",
     "output_type": "stream",
     "text": [
      "Accuracy at Fold 5 is  0.7266187050359713\n"
     ]
    }
   ],
   "source": [
    "# Fold 5\n",
    "x_train = X1\n",
    "X1 = X1.append(X3)\n",
    "X1 = X1.append(X4)\n",
    "X1 = X1.append(X2)\n",
    "\n",
    "y_train = y1\n",
    "y1 = y1.append(y3)\n",
    "y1 = y1.append(y4)\n",
    "y1 = y1.append(y2)\n",
    "\n",
    "lr = LogisticRegression()\n",
    "lr.fit(x_train, y_train, epochs=150)\n",
    "\n",
    "pred = lr.predict(X5)\n",
    "accuracy = accuracy_score(y5, pred)\n",
    "print(\"Accuracy at Fold 5 is \",accuracy)"
   ]
  },
  {
   "cell_type": "markdown",
   "id": "olympic-colonial",
   "metadata": {},
   "source": [
    "The peak accuracy of the logistic regression was 73% and a low of 65%"
   ]
  }
 ],
 "metadata": {
  "kernelspec": {
   "display_name": "Python 3",
   "language": "python",
   "name": "python3"
  },
  "language_info": {
   "codemirror_mode": {
    "name": "ipython",
    "version": 3
   },
   "file_extension": ".py",
   "mimetype": "text/x-python",
   "name": "python",
   "nbconvert_exporter": "python",
   "pygments_lexer": "ipython3",
   "version": "3.9.2"
  }
 },
 "nbformat": 4,
 "nbformat_minor": 5
}
