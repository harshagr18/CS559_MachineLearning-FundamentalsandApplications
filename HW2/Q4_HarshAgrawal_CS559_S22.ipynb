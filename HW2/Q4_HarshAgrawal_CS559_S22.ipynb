{
 "cells": [
  {
   "cell_type": "markdown",
   "id": "blind-command",
   "metadata": {},
   "source": [
    "### Pseudocode\n",
    "\n",
    "<b>Perceptron is a binary classifier that classifies based on the unit step function.</b>\n",
    "\n",
    "- The output is 1 or -1.\n",
    "- A sequence of training examples (x1, y1), (x2, y2), ..., (xn,yn) where all xi is a set of tuple of 2 values, yi ∈ {-1,1}\n",
    "- Initialize an arbitrary weight value\n",
    "- For each value of training example\n",
    "    * We predict the value of y, using the weight\n",
    "        * if predicted y < actual y ,then we update w = w + x\n",
    "        * if predicted y > actual y ,then we update w = w - x\n",
    "- Return the final vector when the algorithm converges"
   ]
  },
  {
   "cell_type": "code",
   "execution_count": 1,
   "id": "emotional-chart",
   "metadata": {},
   "outputs": [],
   "source": [
    "import numpy as np\n",
    "import matplotlib.pyplot as plt\n",
    "\n",
    "class Perceptron:\n",
    "    # Initialize values\n",
    "    def __init__(self, learning_rate=0.01, n_iters=1000):\n",
    "        self.lr = learning_rate\n",
    "        self.n_iters = n_iters\n",
    "        self.activation_func = self._unit_step_func\n",
    "        self.weights = None\n",
    "        self.bias = None\n",
    "\n",
    "    # Fitting data to weights and bias\n",
    "    def fit(self, X, y):\n",
    "        n_samples, n_features = X.shape\n",
    "        self.weights = np.zeros(n_features)\n",
    "        self.bias = 0\n",
    "        y_ = np.array([1 if i > 0 else 0 for i in y])\n",
    "\n",
    "        for _ in range(self.n_iters):\n",
    "            for idx, x_i in enumerate(X):\n",
    "                linear_output = np.dot(x_i, self.weights) + self.bias\n",
    "                y_predicted = self.activation_func(linear_output)\n",
    "                \n",
    "                update = self.lr * (y_[idx] - y_predicted)\n",
    "                self.weights += update * x_i\n",
    "                self.bias += update\n",
    "\n",
    "    # Predicting value for X\n",
    "    def predict(self, X):\n",
    "        linear_output = np.dot(X, self.weights) + self.bias\n",
    "        y_predicted = self.activation_func(linear_output)\n",
    "        return y_predicted\n",
    "\n",
    "    # Basic unit step function\n",
    "    def _unit_step_func(self, x):\n",
    "        return np.where(x>=0, 1, 0)\n",
    "\n",
    "def accuracy(y_true, y_pred):\n",
    "    accuracy = np.sum(y_true == y_pred) / len(y_true)\n",
    "    return accuracy"
   ]
  },
  {
   "cell_type": "code",
   "execution_count": 2,
   "id": "behavioral-significance",
   "metadata": {},
   "outputs": [
    {
     "name": "stdout",
     "output_type": "stream",
     "text": [
      "Perceptron classification accuracy 1.0\n"
     ]
    },
    {
     "data": {
      "image/png": "[encoded data removed]",
      "text/plain": [
       "<Figure size 432x288 with 1 Axes>"
      ]
     },
     "metadata": {
      "needs_background": "light"
     },
     "output_type": "display_data"
    },
    {
     "name": "stdout",
     "output_type": "stream",
     "text": [
      "Perceptron classified [3,3] as [0]\n"
     ]
    }
   ],
   "source": [
    "# Preparing the data\n",
    "X_train = np.array([[4,2.9],[4,4],[1,2.5],[2.5,1],[4.9,4.5],[1.9,1.9],[3.5,4],[0.5,1.5],[2,2.1],[4.5,2.5]])\n",
    "y_train = np.array([1,1,0,0,1,0,1,0,0,1]) # Converting +1 and -1 to +1 and 0 for ease of calculation\n",
    "X_test = np.array([[3,3]])\n",
    "y_test = np.array([0])\n",
    "\n",
    "\n",
    "# Initializing the model\n",
    "p = Perceptron(learning_rate=0.01, n_iters=1000)\n",
    "p.fit(X_train, y_train) # Fitting the model\n",
    "predictions = p.predict(X_test) # Testing data\n",
    "\n",
    "print(\"Perceptron classification accuracy\", accuracy(y_test, predictions))\n",
    "\n",
    "fig = plt.figure()\n",
    "ax = fig.add_subplot(1, 1, 1)\n",
    "plt.scatter(X_train[:, 0], X_train[:, 1], marker=\"o\", c=y_train)\n",
    "\n",
    "x0_1 = np.amin(X_train[:, 0])\n",
    "x0_2 = np.amax(X_train[:, 0])\n",
    "\n",
    "x1_1 = (-p.weights[0] * x0_1 - p.bias) / p.weights[1]\n",
    "x1_2 = (-p.weights[0] * x0_2 - p.bias) / p.weights[1]\n",
    "\n",
    "ax.plot([x0_1, x0_2], [x1_1, x1_2], \"k\")\n",
    "\n",
    "ymin = np.amin(X_train[:, 1])\n",
    "ymax = np.amax(X_train[:, 1])\n",
    "ax.set_ylim([ymin - 3, ymax + 3])\n",
    "\n",
    "plt.show()\n",
    "\n",
    "print(\"Perceptron classified [3,3] as\",predictions)"
   ]
  },
  {
   "cell_type": "markdown",
   "id": "congressional-blair",
   "metadata": {},
   "source": [
    "<b> Hyper-plane is shown dividing the purple and yellow points. </b>"
   ]
  }
 ],
 "metadata": {
  "kernelspec": {
   "display_name": "Python 3",
   "language": "python",
   "name": "python3"
  },
  "language_info": {
   "codemirror_mode": {
    "name": "ipython",
    "version": 3
   },
   "file_extension": ".py",
   "mimetype": "text/x-python",
   "name": "python",
   "nbconvert_exporter": "python",
   "pygments_lexer": "ipython3",
   "version": "3.9.2"
  }
 },
 "nbformat": 4,
 "nbformat_minor": 5
}
