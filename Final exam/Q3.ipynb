{
 "cells": [
  {
   "cell_type": "code",
   "execution_count": 1,
   "id": "assigned-alberta",
   "metadata": {},
   "outputs": [],
   "source": [
    "import pandas as pd\n",
    "import numpy as np\n",
    "import matplotlib.pyplot as plt\n",
    "import math"
   ]
  },
  {
   "cell_type": "code",
   "execution_count": 2,
   "id": "comprehensive-columbia",
   "metadata": {},
   "outputs": [],
   "source": [
    "data = pd.read_csv(\"Q3.csv\")\n",
    "data = data.drop(\"Unnamed: 0\", axis = 1)"
   ]
  },
  {
   "cell_type": "code",
   "execution_count": 3,
   "id": "ranking-qualification",
   "metadata": {},
   "outputs": [
    {
     "data": {
      "text/html": [
       "<div>\n",
       "<style scoped>\n",
       "    .dataframe tbody tr th:only-of-type {\n",
       "        vertical-align: middle;\n",
       "    }\n",
       "\n",
       "    .dataframe tbody tr th {\n",
       "        vertical-align: top;\n",
       "    }\n",
       "\n",
       "    .dataframe thead th {\n",
       "        text-align: right;\n",
       "    }\n",
       "</style>\n",
       "<table border=\"1\" class=\"dataframe\">\n",
       "  <thead>\n",
       "    <tr style=\"text-align: right;\">\n",
       "      <th></th>\n",
       "      <th>t</th>\n",
       "      <th>f(t)</th>\n",
       "    </tr>\n",
       "  </thead>\n",
       "  <tbody>\n",
       "    <tr>\n",
       "      <th>0</th>\n",
       "      <td>0.00</td>\n",
       "      <td>[2.01914052]</td>\n",
       "    </tr>\n",
       "    <tr>\n",
       "      <th>1</th>\n",
       "      <td>0.05</td>\n",
       "      <td>[1.97832562]</td>\n",
       "    </tr>\n",
       "    <tr>\n",
       "      <th>2</th>\n",
       "      <td>0.10</td>\n",
       "      <td>[2.07257462]</td>\n",
       "    </tr>\n",
       "    <tr>\n",
       "      <th>3</th>\n",
       "      <td>0.15</td>\n",
       "      <td>[2.38318307]</td>\n",
       "    </tr>\n",
       "    <tr>\n",
       "      <th>4</th>\n",
       "      <td>0.20</td>\n",
       "      <td>[2.56553374]</td>\n",
       "    </tr>\n",
       "  </tbody>\n",
       "</table>\n",
       "</div>"
      ],
      "text/plain": [
       "      t          f(t)\n",
       "0  0.00  [2.01914052]\n",
       "1  0.05  [1.97832562]\n",
       "2  0.10  [2.07257462]\n",
       "3  0.15  [2.38318307]\n",
       "4  0.20  [2.56553374]"
      ]
     },
     "execution_count": 3,
     "metadata": {},
     "output_type": "execute_result"
    }
   ],
   "source": [
    "data.head()"
   ]
  },
  {
   "cell_type": "code",
   "execution_count": 4,
   "id": "honest-sunday",
   "metadata": {},
   "outputs": [],
   "source": [
    "y = []\n",
    "t = []\n",
    "for i in data[\"f(t)\"]:\n",
    "    temp = list(i)\n",
    "    temp.remove(\"[\")\n",
    "    temp.remove(\"]\")\n",
    "    y.append(float(\"\".join(temp)))\n",
    "    \n",
    "data[\"f(t)\"] = y\n",
    "\n",
    "for i in data[\"t\"]:\n",
    "    t.append(i) "
   ]
  },
  {
   "cell_type": "code",
   "execution_count": 5,
   "id": "yellow-visiting",
   "metadata": {},
   "outputs": [],
   "source": [
    "c = [3.7,-0.1,1.5,1.2]\n",
    "c1 = []\n",
    "c2 = []\n",
    "c3 = []\n",
    "c4 = []\n",
    "error = []\n",
    "lr = 0.1\n",
    "for _ in range(1000):\n",
    "    diff = 0\n",
    "    for i in range(len(t)):\n",
    "        currX = t[i]\n",
    "        currY = y[i]\n",
    "        val = c[0] * np.exp(-c[1]*currX) * np.cos(c[2]*currX-c[3])\n",
    "        diff = diff + (val - currY)\n",
    "    error.append(val-currY)\n",
    "    diff = diff * 0.1 / (2 * len(t)) * lr\n",
    "    temp = []\n",
    "    c1.append(c[0])\n",
    "    c2.append(c[1])\n",
    "    c3.append(c[2])\n",
    "    c4.append(c[3])\n",
    "    for j in c:\n",
    "        temp.append(j-diff)\n",
    "    c = temp.copy()"
   ]
  },
  {
   "cell_type": "code",
   "execution_count": 6,
   "id": "scenic-workshop",
   "metadata": {},
   "outputs": [
    {
     "data": {
      "text/plain": [
       "[<matplotlib.lines.Line2D at 0x1da60266820>]"
      ]
     },
     "execution_count": 6,
     "metadata": {},
     "output_type": "execute_result"
    },
    {
     "data": {
      "image/png": "[encoded data removed]",
      "text/plain": [
       "<Figure size 432x288 with 1 Axes>"
      ]
     },
     "metadata": {
      "needs_background": "light"
     },
     "output_type": "display_data"
    }
   ],
   "source": [
    "# constant values seem to be steadily increasing\n",
    "\n",
    "plt.plot(c1)\n",
    "plt.plot(c2)\n",
    "plt.plot(c3)\n",
    "plt.plot(c4)"
   ]
  },
  {
   "cell_type": "code",
   "execution_count": 7,
   "id": "material-digest",
   "metadata": {},
   "outputs": [
    {
     "data": {
      "text/plain": [
       "[<matplotlib.lines.Line2D at 0x1da609d3160>]"
      ]
     },
     "execution_count": 7,
     "metadata": {},
     "output_type": "execute_result"
    },
    {
     "data": {
      "image/png": "[encoded data removed]",
      "text/plain": [
       "<Figure size 432x288 with 1 Axes>"
      ]
     },
     "metadata": {
      "needs_background": "light"
     },
     "output_type": "display_data"
    }
   ],
   "source": [
    "# error value increases sharply and then decreases abruptly\n",
    "\n",
    "plt.plot(error)"
   ]
  },
  {
   "cell_type": "markdown",
   "id": "absolute-millennium",
   "metadata": {},
   "source": [
    "Differentiating the initial function we get <br>\n",
    "\n",
    "<img src=\"Diff.jpeg\" align=\"center\">"
   ]
  },
  {
   "cell_type": "code",
   "execution_count": 8,
   "id": "downtown-recipient",
   "metadata": {},
   "outputs": [
    {
     "data": {
      "text/plain": [
       "[<matplotlib.lines.Line2D at 0x1da60a2fd60>]"
      ]
     },
     "execution_count": 8,
     "metadata": {},
     "output_type": "execute_result"
    },
    {
     "data": {
      "image/png": "[encoded data removed]",
      "text/plain": [
       "<Figure size 432x288 with 1 Axes>"
      ]
     },
     "metadata": {
      "needs_background": "light"
     },
     "output_type": "display_data"
    }
   ],
   "source": [
    "# Hence we plot the differential of the original function as below\n",
    "\n",
    "fdash = []\n",
    "\n",
    "for i in range(1000):\n",
    "    val = c[3] * np.sin(c[2]*t[i%754])+c[1]*np.cos(c[2]*t[i%754]-c[3])\n",
    "    fdash.append(val)\n",
    "    \n",
    "plt.plot(fdash)"
   ]
  },
  {
   "cell_type": "markdown",
   "id": "critical-struggle",
   "metadata": {},
   "source": [
    "The function hits the 0 value at periodic intervals with a single anomaly"
   ]
  }
 ],
 "metadata": {
  "kernelspec": {
   "display_name": "Python 3",
   "language": "python",
   "name": "python3"
  },
  "language_info": {
   "codemirror_mode": {
    "name": "ipython",
    "version": 3
   },
   "file_extension": ".py",
   "mimetype": "text/x-python",
   "name": "python",
   "nbconvert_exporter": "python",
   "pygments_lexer": "ipython3",
   "version": "3.9.2"
  }
 },
 "nbformat": 4,
 "nbformat_minor": 5
}
