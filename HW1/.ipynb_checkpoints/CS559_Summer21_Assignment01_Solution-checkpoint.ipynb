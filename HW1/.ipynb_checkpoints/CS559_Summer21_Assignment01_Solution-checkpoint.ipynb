{
 "cells": [
  {
   "cell_type": "markdown",
   "metadata": {},
   "source": [
    "## Summer 2021 CS559: Homework #1"
   ]
  },
  {
   "cell_type": "markdown",
   "metadata": {},
   "source": [
    "Assignment #1: due on **6/10/2021 by 11:59 PM**. \n",
    "- Before you start, rename the file as *LastNameFirstName*_S21_CS559_HW1. (e.g., JangInsuk_S21_CS559_HW1). \n",
    "- Submit the assignment both in format of *ipynb* and *html*. \n",
    "    - Export the file as *HTML* as `File`>`Download as`>`HTML`. \n",
    "    - Do not need to print results of middle-process work. Only the final answers must be printed while all lines must be excuted. \n",
    "    - Clean up unnecessary lines and codes with errors. \n",
    "    - Use *Markdown* to explain answers and results. \n",
    "    - **Do not need to compress** the files. You can submit files individually.\n",
    "    - Only one time submission is allowd \n",
    "- This assignment focuses on topics of linear algebra, probability theory, and EDA. \n",
    "    - For linear algebra questions, when the question says \"implement\", you are not allowed to use any built-in functions from `NumPy` or similar libraries that do the job. (e.g., if the question is to implement dot prodcut function, do not use `numpy.dot`). \n",
    "- This assignment should an individual work. Do not collaborate with classmates or get help from 3rd person. You may surf internet if you need to. Then site the reference. "
   ]
  },
  {
   "cell_type": "markdown",
   "metadata": {},
   "source": [
    "### Problem 1 [10 pts]\n",
    "1-a: **Implement** a function `dot_product` to calculate the dot product of two 1 by n arrays. [6 pts] \n",
    "$$\\vec{a}\\cdot\\vec{b}=\\sum_{i}^{n}a_ib_i$$\n",
    "- if there are two vectors **a**=[1,2,3,4] and **b**=[2,3,4,5] are\n",
    "    then `dot_product(a,b)` = 40. \n"
   ]
  },
  {
   "cell_type": "code",
   "execution_count": null,
   "metadata": {},
   "outputs": [],
   "source": [
    "import numpy as np"
   ]
  },
  {
   "cell_type": "code",
   "execution_count": null,
   "metadata": {},
   "outputs": [],
   "source": [
    "def dot_product(a,b):\n",
    "    ### Code Starts Here\n",
    "    result=\n",
    "    return(result)"
   ]
  },
  {
   "cell_type": "markdown",
   "metadata": {},
   "source": [
    "1-b: Generate two random 1 by 10 vectors, $\\vec{x}$  and $\\vec{y}$, using `np.random.randinit()` and find $z$, the dot product between $\\vec{x}$  and $\\vec{y}$. [3 pts]"
   ]
  },
  {
   "cell_type": "code",
   "execution_count": null,
   "metadata": {},
   "outputs": [],
   "source": [
    "### Code Starts Here\n",
    "np.random.seed(123)\n",
    "x=np.random.randint()\n",
    "y=np.random.randint()"
   ]
  },
  {
   "cell_type": "code",
   "execution_count": null,
   "metadata": {},
   "outputs": [],
   "source": [
    "z=dot_product(x,y)"
   ]
  },
  {
   "cell_type": "markdown",
   "metadata": {},
   "source": [
    "1-c:Test if $z$ in 1-b is same as the result using `np.dot()`. The answer should be printed either **True** or **False**. [1 pt]"
   ]
  },
  {
   "cell_type": "code",
   "execution_count": null,
   "metadata": {},
   "outputs": [],
   "source": [
    "### Code Starts Here"
   ]
  },
  {
   "cell_type": "markdown",
   "metadata": {},
   "source": [
    "### Problem 2 [20 pts]\n",
    "2-a: Implement a function `mat_product` to calculate the matrix product of two n by n arrays. [8 pts] \n",
    "$$C_{ij}=\\sum_{i,j,k=1}^nA_{ik}B_{kj}$$"
   ]
  },
  {
   "cell_type": "code",
   "execution_count": null,
   "metadata": {},
   "outputs": [],
   "source": [
    "### Code Starts Here\n",
    "def mat_product(A,B):\n",
    "    "
   ]
  },
  {
   "cell_type": "markdown",
   "metadata": {},
   "source": [
    "2-b Generate two random 3 by 3 matrices, ${\\bf X}$ and ${\\bf Y}$, whose elements are from 0 to 10. Print the result. [4 pts]"
   ]
  },
  {
   "cell_type": "code",
   "execution_count": null,
   "metadata": {},
   "outputs": [],
   "source": [
    "### Test Starts Here\n",
    "np.random.seed(123)\n",
    "X=np.random.randint()\n",
    "Y=np.random.randint()"
   ]
  },
  {
   "cell_type": "code",
   "execution_count": null,
   "metadata": {},
   "outputs": [],
   "source": [
    "mat_product(X,Y)"
   ]
  },
  {
   "cell_type": "markdown",
   "metadata": {},
   "source": [
    "2-c Inplement a function `mat_transpose()` that transposes ${\\bf X}$ and use the `mat_product` function to find the matrice of product: $Z={\\bf X}^T\\cdot{\\bf Y}$. Compare the result with using `np.matmul()`. [8 pts]\n"
   ]
  },
  {
   "cell_type": "code",
   "execution_count": null,
   "metadata": {},
   "outputs": [],
   "source": [
    "### Code Starts Here\n",
    "def mat_transpose(X):"
   ]
  },
  {
   "cell_type": "code",
   "execution_count": null,
   "metadata": {},
   "outputs": [],
   "source": [
    "Z=mat_product(mat_transpose(X),Y)\n",
    "print(Z)"
   ]
  },
  {
   "cell_type": "code",
   "execution_count": null,
   "metadata": {},
   "outputs": [],
   "source": [
    "np.matmul(X.T,Y)"
   ]
  },
  {
   "cell_type": "code",
   "execution_count": null,
   "metadata": {},
   "outputs": [],
   "source": []
  },
  {
   "cell_type": "markdown",
   "metadata": {},
   "source": [
    "### Problem 3 [15 pts]\n",
    "3-a: Create a simulatior `coin_prob(pi,n,k)` for $n$ fair coins (whose probability is $\\pi=0.5$) flipping $N$ times with the number of trials increase by the intervals of 50, $t=50,100,150,200,\\cdots,10000$, having $k$ number of heads. [10 pts]\n",
    "\n",
    "   - Use the sample data to compute the maximum likelihood estiamte probabilty $s$, `np.random.binomial()`, of $\\pi$.\n",
    "   - Have the simulator return the result of $t$ and $s$ as a data frame \"ProbTable\". [8 pts]\n",
    "   "
   ]
  },
  {
   "cell_type": "code",
   "execution_count": null,
   "metadata": {},
   "outputs": [],
   "source": [
    "### Code Starts Here\n",
    "import pandas as pd\n",
    "def coin_prob(pi,n,k):\n",
    "    \"\"\"\n",
    "    Simulator to calculate a probability of n coins \n",
    "    flipping N times with t trials having k number of heads: head (=1)\n",
    "    \"\"\"\n",
    "    ProbTable=pd.DataFrame()\n",
    "\n",
    "    return(ProbTable)"
   ]
  },
  {
   "cell_type": "markdown",
   "metadata": {},
   "source": [
    "3-b: Test the simulator when $n=1$ and $k=1$. Plot the estimates of $\\pi$ as a function of sample size. Indicate the expected probability using a horizontal line. [2 pts]"
   ]
  },
  {
   "cell_type": "code",
   "execution_count": null,
   "metadata": {},
   "outputs": [],
   "source": [
    "one_coins=coin_prob(pi=,n=,k=)"
   ]
  },
  {
   "cell_type": "code",
   "execution_count": null,
   "metadata": {},
   "outputs": [],
   "source": [
    "### Code Starts Here\n",
    "import matplotlib.pyplot as plt\n",
    "\n",
    "plt.plot(one_coin.t, one_coin.s, 'g-')\n",
    "plt.axhline(y=, color='r', linestyle='--')\n",
    "plt.xlabel('')\n",
    "plt.ylabel('Probability')\n",
    "plt.title('Probability vs. ')\n",
    "plt.show()"
   ]
  },
  {
   "cell_type": "markdown",
   "metadata": {},
   "source": [
    "3-c: Calculate the probability of having **1 head ($k=1$)** when 3 coins are flipped. Report the expected value.  [2 pts]"
   ]
  },
  {
   "cell_type": "code",
   "execution_count": null,
   "metadata": {},
   "outputs": [],
   "source": []
  },
  {
   "cell_type": "markdown",
   "metadata": {},
   "source": [
    "3-d: Evaluate your answer in 3-c using the simulator. Show a plot that supports your evaluation. [3 pts]"
   ]
  },
  {
   "cell_type": "code",
   "execution_count": null,
   "metadata": {},
   "outputs": [],
   "source": [
    "three_coins=coin_prob(pi=,n=,k=)"
   ]
  },
  {
   "cell_type": "code",
   "execution_count": null,
   "metadata": {},
   "outputs": [],
   "source": [
    "\"\"\"Plot shows here\"\"\"\n"
   ]
  },
  {
   "cell_type": "markdown",
   "metadata": {},
   "source": [
    "### Problem 4 [30 pts]\n",
    "\n",
    "Load the Gross Domestic Product data for the 190 ranked countries in the file **GDP.csv**. Load **Country.csv** into a DataFrame. "
   ]
  },
  {
   "cell_type": "code",
   "execution_count": null,
   "metadata": {},
   "outputs": [],
   "source": [
    "gdp = pd.read_csv('GDP.csv', skiprows=range(5), header= None, usecols=[0,1,3,4], nrows=190,encoding='ISO-8859-1')\n",
    "gdp.columns = ['CountryCode', 'Rank', 'CountryName', 'GDP']\n",
    "Country = pd.read_csv('Country.csv',encoding='ISO-8859-1')"
   ]
  },
  {
   "cell_type": "markdown",
   "metadata": {},
   "source": []
  },
  {
   "cell_type": "markdown",
   "metadata": {},
   "source": [
    "4-a: Match the `CountryCode` and merge two data frames. Call the new data frame as `Country_GDP`. How many of the IDs match?\n",
    "Use the link for hints: https://pandas.pydata.org/pandas-docs/stable/user_guide/merging.html [5 pts]"
   ]
  },
  {
   "cell_type": "code",
   "execution_count": null,
   "metadata": {},
   "outputs": [],
   "source": [
    "### Code Starts Here\n",
    "Country_GDP="
   ]
  },
  {
   "cell_type": "code",
   "execution_count": null,
   "metadata": {},
   "outputs": [],
   "source": [
    "### Print the number of IDs"
   ]
  },
  {
   "cell_type": "markdown",
   "metadata": {},
   "source": [
    "4-b: Use visualization to determine the number of countries by `Region`. Which region has the largest number of countries? [5 pts]"
   ]
  },
  {
   "cell_type": "code",
   "execution_count": null,
   "metadata": {},
   "outputs": [],
   "source": [
    "### Code Starts Here"
   ]
  },
  {
   "cell_type": "markdown",
   "metadata": {},
   "source": [
    "4-c: Visualize the distribution of GDP by `Region` to make descrete statistic analysis. Explain your findings. [5 pts]"
   ]
  },
  {
   "cell_type": "code",
   "execution_count": null,
   "metadata": {},
   "outputs": [],
   "source": [
    "### Code Starts Here"
   ]
  },
  {
   "cell_type": "markdown",
   "metadata": {},
   "source": [
    "4-d: Test how GDPs are alike between regions using two-sample **Kolmogorov-Smirnov** test `ks_2samp()`. Make a data table show $KS-test$ and $p-$ values. Evalueate the result. Expian which regions have similar distributions. [5 pts]"
   ]
  },
  {
   "cell_type": "code",
   "execution_count": null,
   "metadata": {},
   "outputs": [],
   "source": [
    "### Code Starts Here\n",
    "from scipy.stats import ks_2samp"
   ]
  },
  {
   "cell_type": "markdown",
   "metadata": {},
   "source": [
    "4-e: Sort the data frame in descending order by GDP rank. What is the 13th country in the resulting data frame? (Note: GDP formats as 123,456,789.) [5 pts]"
   ]
  },
  {
   "cell_type": "code",
   "execution_count": null,
   "metadata": {},
   "outputs": [],
   "source": [
    "### Code Starts Here"
   ]
  },
  {
   "cell_type": "markdown",
   "metadata": {},
   "source": [
    "4-f: Use `groupby()` and `agg()` to find the average and standard deviation of GDP by `income group`. [5 pts]"
   ]
  },
  {
   "cell_type": "code",
   "execution_count": null,
   "metadata": {},
   "outputs": [],
   "source": [
    "### Code Starts Here"
   ]
  }
 ],
 "metadata": {
  "kernelspec": {
   "display_name": "Python 3",
   "language": "python",
   "name": "python3"
  },
  "language_info": {
   "codemirror_mode": {
    "name": "ipython",
    "version": 3
   },
   "file_extension": ".py",
   "mimetype": "text/x-python",
   "name": "python",
   "nbconvert_exporter": "python",
   "pygments_lexer": "ipython3",
   "version": "3.8.3"
  }
 },
 "nbformat": 4,
 "nbformat_minor": 4
}
